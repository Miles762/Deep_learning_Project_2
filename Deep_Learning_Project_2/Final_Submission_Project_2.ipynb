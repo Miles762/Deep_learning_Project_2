{
 "cells": [
  {
   "cell_type": "markdown",
   "id": "577b1569-06b4-43e1-b855-f6b2ff916251",
   "metadata": {},
   "source": [
    "# Submission Notebook"
   ]
  },
  {
   "cell_type": "markdown",
   "id": "eb4ecc24-7a00-44d0-943b-7828fc084e08",
   "metadata": {},
   "source": [
    "## Install and import required libraries"
   ]
  },
  {
   "cell_type": "code",
   "execution_count": 1,
   "id": "d40540bb-64af-4426-a7c7-0af43a23fbec",
   "metadata": {},
   "outputs": [
    {
     "name": "stdout",
     "output_type": "stream",
     "text": [
      "Defaulting to user installation because normal site-packages is not writeable\n",
      "Requirement already satisfied: transformers in /home/hs5595/.local/lib/python3.9/site-packages (4.51.3)\n",
      "Requirement already satisfied: datasets in /home/hs5595/.local/lib/python3.9/site-packages (3.5.0)\n",
      "Requirement already satisfied: evaluate in /home/hs5595/.local/lib/python3.9/site-packages (0.4.3)\n",
      "Requirement already satisfied: accelerate in /home/hs5595/.local/lib/python3.9/site-packages (1.6.0)\n",
      "Requirement already satisfied: peft in /home/hs5595/.local/lib/python3.9/site-packages (0.15.2)\n",
      "Requirement already satisfied: trl in /home/hs5595/.local/lib/python3.9/site-packages (0.16.1)\n",
      "Requirement already satisfied: bitsandbytes in /home/hs5595/.local/lib/python3.9/site-packages (0.45.5)\n",
      "Requirement already satisfied: filelock in /home/hs5595/.local/lib/python3.9/site-packages (from transformers) (3.13.1)\n",
      "Requirement already satisfied: huggingface-hub<1.0,>=0.30.0 in /home/hs5595/.local/lib/python3.9/site-packages (from transformers) (0.30.2)\n",
      "Requirement already satisfied: numpy>=1.17 in /home/hs5595/.local/lib/python3.9/site-packages (from transformers) (2.0.2)\n",
      "Requirement already satisfied: packaging>=20.0 in /share/apps/pyenv/py3.9/lib/python3.9/site-packages (from transformers) (23.2)\n",
      "Requirement already satisfied: pyyaml>=5.1 in /share/apps/pyenv/py3.9/lib/python3.9/site-packages (from transformers) (6.0.1)\n",
      "Requirement already satisfied: regex!=2019.12.17 in /home/hs5595/.local/lib/python3.9/site-packages (from transformers) (2024.11.6)\n",
      "Requirement already satisfied: requests in /home/hs5595/.local/lib/python3.9/site-packages (from transformers) (2.32.3)\n",
      "Requirement already satisfied: tokenizers<0.22,>=0.21 in /home/hs5595/.local/lib/python3.9/site-packages (from transformers) (0.21.1)\n",
      "Requirement already satisfied: safetensors>=0.4.3 in /home/hs5595/.local/lib/python3.9/site-packages (from transformers) (0.5.3)\n",
      "Requirement already satisfied: tqdm>=4.27 in /home/hs5595/.local/lib/python3.9/site-packages (from transformers) (4.67.1)\n",
      "Requirement already satisfied: pyarrow>=15.0.0 in /home/hs5595/.local/lib/python3.9/site-packages (from datasets) (19.0.1)\n",
      "Requirement already satisfied: dill<0.3.9,>=0.3.0 in /home/hs5595/.local/lib/python3.9/site-packages (from datasets) (0.3.8)\n",
      "Requirement already satisfied: pandas in /home/hs5595/.local/lib/python3.9/site-packages (from datasets) (2.2.3)\n",
      "Requirement already satisfied: xxhash in /home/hs5595/.local/lib/python3.9/site-packages (from datasets) (3.5.0)\n",
      "Requirement already satisfied: multiprocess<0.70.17 in /home/hs5595/.local/lib/python3.9/site-packages (from datasets) (0.70.16)\n",
      "Requirement already satisfied: fsspec<=2024.12.0,>=2023.1.0 in /home/hs5595/.local/lib/python3.9/site-packages (from fsspec[http]<=2024.12.0,>=2023.1.0->datasets) (2024.6.1)\n",
      "Requirement already satisfied: aiohttp in /home/hs5595/.local/lib/python3.9/site-packages (from datasets) (3.11.16)\n",
      "Requirement already satisfied: psutil in /share/apps/pyenv/py3.9/lib/python3.9/site-packages (from accelerate) (5.9.8)\n",
      "Requirement already satisfied: torch>=2.0.0 in /home/hs5595/.local/lib/python3.9/site-packages (from accelerate) (2.6.0+cu118)\n",
      "Requirement already satisfied: rich in /home/hs5595/.local/lib/python3.9/site-packages (from trl) (13.9.4)\n",
      "Requirement already satisfied: aiohappyeyeballs>=2.3.0 in /home/hs5595/.local/lib/python3.9/site-packages (from aiohttp->datasets) (2.6.1)\n",
      "Requirement already satisfied: aiosignal>=1.1.2 in /home/hs5595/.local/lib/python3.9/site-packages (from aiohttp->datasets) (1.3.2)\n",
      "Requirement already satisfied: async-timeout<6.0,>=4.0 in /home/hs5595/.local/lib/python3.9/site-packages (from aiohttp->datasets) (5.0.1)\n",
      "Requirement already satisfied: attrs>=17.3.0 in /share/apps/pyenv/py3.9/lib/python3.9/site-packages (from aiohttp->datasets) (23.2.0)\n",
      "Requirement already satisfied: frozenlist>=1.1.1 in /home/hs5595/.local/lib/python3.9/site-packages (from aiohttp->datasets) (1.5.0)\n",
      "Requirement already satisfied: multidict<7.0,>=4.5 in /home/hs5595/.local/lib/python3.9/site-packages (from aiohttp->datasets) (6.4.3)\n",
      "Requirement already satisfied: propcache>=0.2.0 in /home/hs5595/.local/lib/python3.9/site-packages (from aiohttp->datasets) (0.3.1)\n",
      "Requirement already satisfied: yarl<2.0,>=1.17.0 in /home/hs5595/.local/lib/python3.9/site-packages (from aiohttp->datasets) (1.19.0)\n",
      "Requirement already satisfied: typing-extensions>=3.7.4.3 in /home/hs5595/.local/lib/python3.9/site-packages (from huggingface-hub<1.0,>=0.30.0->transformers) (4.12.2)\n",
      "Requirement already satisfied: charset-normalizer<4,>=2 in /share/apps/pyenv/py3.9/lib/python3.9/site-packages (from requests->transformers) (3.3.2)\n",
      "Requirement already satisfied: idna<4,>=2.5 in /share/apps/pyenv/py3.9/lib/python3.9/site-packages (from requests->transformers) (2.10)\n",
      "Requirement already satisfied: urllib3<3,>=1.21.1 in /share/apps/pyenv/py3.9/lib/python3.9/site-packages (from requests->transformers) (1.26.6)\n",
      "Requirement already satisfied: certifi>=2017.4.17 in /share/apps/pyenv/py3.9/lib/python3.9/site-packages (from requests->transformers) (2024.2.2)\n",
      "Requirement already satisfied: networkx in /home/hs5595/.local/lib/python3.9/site-packages (from torch>=2.0.0->accelerate) (3.2.1)\n",
      "Requirement already satisfied: jinja2 in /share/apps/pyenv/py3.9/lib/python3.9/site-packages (from torch>=2.0.0->accelerate) (3.1.3)\n",
      "Requirement already satisfied: nvidia-cuda-nvrtc-cu11==11.8.89 in /home/hs5595/.local/lib/python3.9/site-packages (from torch>=2.0.0->accelerate) (11.8.89)\n",
      "Requirement already satisfied: nvidia-cuda-runtime-cu11==11.8.89 in /home/hs5595/.local/lib/python3.9/site-packages (from torch>=2.0.0->accelerate) (11.8.89)\n",
      "Requirement already satisfied: nvidia-cuda-cupti-cu11==11.8.87 in /home/hs5595/.local/lib/python3.9/site-packages (from torch>=2.0.0->accelerate) (11.8.87)\n",
      "Requirement already satisfied: nvidia-cudnn-cu11==9.1.0.70 in /home/hs5595/.local/lib/python3.9/site-packages (from torch>=2.0.0->accelerate) (9.1.0.70)\n",
      "Requirement already satisfied: nvidia-cublas-cu11==11.11.3.6 in /home/hs5595/.local/lib/python3.9/site-packages (from torch>=2.0.0->accelerate) (11.11.3.6)\n",
      "Requirement already satisfied: nvidia-cufft-cu11==10.9.0.58 in /home/hs5595/.local/lib/python3.9/site-packages (from torch>=2.0.0->accelerate) (10.9.0.58)\n",
      "Requirement already satisfied: nvidia-curand-cu11==10.3.0.86 in /home/hs5595/.local/lib/python3.9/site-packages (from torch>=2.0.0->accelerate) (10.3.0.86)\n",
      "Requirement already satisfied: nvidia-cusolver-cu11==11.4.1.48 in /home/hs5595/.local/lib/python3.9/site-packages (from torch>=2.0.0->accelerate) (11.4.1.48)\n",
      "Requirement already satisfied: nvidia-cusparse-cu11==11.7.5.86 in /home/hs5595/.local/lib/python3.9/site-packages (from torch>=2.0.0->accelerate) (11.7.5.86)\n",
      "Requirement already satisfied: nvidia-nccl-cu11==2.21.5 in /home/hs5595/.local/lib/python3.9/site-packages (from torch>=2.0.0->accelerate) (2.21.5)\n",
      "Requirement already satisfied: nvidia-nvtx-cu11==11.8.86 in /home/hs5595/.local/lib/python3.9/site-packages (from torch>=2.0.0->accelerate) (11.8.86)\n",
      "Requirement already satisfied: triton==3.2.0 in /home/hs5595/.local/lib/python3.9/site-packages (from torch>=2.0.0->accelerate) (3.2.0)\n",
      "Requirement already satisfied: sympy==1.13.1 in /home/hs5595/.local/lib/python3.9/site-packages (from torch>=2.0.0->accelerate) (1.13.1)\n",
      "Requirement already satisfied: mpmath<1.4,>=1.1.0 in /home/hs5595/.local/lib/python3.9/site-packages (from sympy==1.13.1->torch>=2.0.0->accelerate) (1.3.0)\n",
      "Requirement already satisfied: python-dateutil>=2.8.2 in /share/apps/pyenv/py3.9/lib/python3.9/site-packages (from pandas->datasets) (2.8.2)\n",
      "Requirement already satisfied: pytz>=2020.1 in /home/hs5595/.local/lib/python3.9/site-packages (from pandas->datasets) (2025.1)\n",
      "Requirement already satisfied: tzdata>=2022.7 in /home/hs5595/.local/lib/python3.9/site-packages (from pandas->datasets) (2025.1)\n",
      "Requirement already satisfied: markdown-it-py>=2.2.0 in /home/hs5595/.local/lib/python3.9/site-packages (from rich->trl) (3.0.0)\n",
      "Requirement already satisfied: pygments<3.0.0,>=2.13.0 in /share/apps/pyenv/py3.9/lib/python3.9/site-packages (from rich->trl) (2.17.2)\n",
      "Requirement already satisfied: mdurl~=0.1 in /home/hs5595/.local/lib/python3.9/site-packages (from markdown-it-py>=2.2.0->rich->trl) (0.1.2)\n",
      "Requirement already satisfied: six>=1.5 in /share/apps/pyenv/py3.9/lib/python3.9/site-packages (from python-dateutil>=2.8.2->pandas->datasets) (1.16.0)\n",
      "Requirement already satisfied: MarkupSafe>=2.0 in /share/apps/pyenv/py3.9/lib/python3.9/site-packages (from jinja2->torch>=2.0.0->accelerate) (2.1.4)\n",
      "Defaulting to user installation because normal site-packages is not writeable\n",
      "Requirement already satisfied: nvidia-ml-py3 in /home/hs5595/.local/lib/python3.9/site-packages (7.352.0)\n"
     ]
    }
   ],
   "source": [
    "!pip install transformers datasets evaluate accelerate peft trl bitsandbytes\n",
    "!pip install nvidia-ml-py3\n"
   ]
  },
  {
   "cell_type": "code",
   "execution_count": 2,
   "id": "b7658f5d-679b-4770-9d5a-c85da082040d",
   "metadata": {},
   "outputs": [
    {
     "name": "stderr",
     "output_type": "stream",
     "text": [
      "/home/hs5595/.local/lib/python3.9/site-packages/tqdm/auto.py:21: TqdmWarning: IProgress not found. Please update jupyter and ipywidgets. See https://ipywidgets.readthedocs.io/en/stable/user_install.html\n",
      "  from .autonotebook import tqdm as notebook_tqdm\n"
     ]
    }
   ],
   "source": [
    "\n",
    "import os\n",
    "import pandas as pd\n",
    "import torch\n",
    "import torch.nn as nn\n",
    "from transformers import RobertaModel, RobertaTokenizer, TrainingArguments, Trainer, DataCollatorWithPadding, RobertaForSequenceClassification, RobertaConfig\n",
    "from peft import LoraConfig, get_peft_model, PeftModel, TaskType\n",
    "from datasets import load_dataset, Dataset, ClassLabel\n",
    "import pickle\n",
    "from sklearn.metrics import accuracy_score, precision_recall_fscore_support\n"
   ]
  },
  {
   "cell_type": "markdown",
   "id": "d83ce888-5d8c-4d58-a69b-ad24d32c94c6",
   "metadata": {},
   "source": [
    "## Load Tokenizer and Preprocess Data"
   ]
  },
  {
   "cell_type": "code",
   "execution_count": 3,
   "id": "62efc2d3-8cb6-4b48-ba3b-902fc23426a6",
   "metadata": {},
   "outputs": [],
   "source": [
    "# Load and prepare dataset\n",
    "base_model = 'roberta-base'\n",
    "dataset = load_dataset('ag_news', split='train')\n",
    "tokenizer = RobertaTokenizer.from_pretrained(base_model)\n",
    "\n",
    "def preprocess(examples):\n",
    "    tokenized = tokenizer(examples['text'], truncation=True, padding=True)\n",
    "    return tokenized\n",
    "\n",
    "tokenized_dataset = dataset.map(preprocess, batched=True, remove_columns=[\"text\"])\n",
    "tokenized_dataset = tokenized_dataset.rename_column(\"label\", \"labels\")"
   ]
  },
  {
   "cell_type": "markdown",
   "id": "535c8469-ddb6-460e-beb9-7bd4bab40fdc",
   "metadata": {},
   "source": [
    "## Extracting Label Info & Customizing Dropout in RobertaConfig"
   ]
  },
  {
   "cell_type": "code",
   "execution_count": 4,
   "id": "edaa5c21-ad3d-46c8-a8ba-e8181f434142",
   "metadata": {},
   "outputs": [
    {
     "name": "stdout",
     "output_type": "stream",
     "text": [
      "number of labels: 4\n",
      "the labels: ['World', 'Sports', 'Business', 'Sci/Tech']\n"
     ]
    }
   ],
   "source": [
    "# Extract class info\n",
    "num_labels = dataset.features['label'].num_classes\n",
    "class_names = dataset.features[\"label\"].names\n",
    "print(f\"number of labels: {num_labels}\")\n",
    "print(f\"the labels: {class_names}\")\n",
    "id2label = {i: label for i, label in enumerate(class_names)}\n",
    "data_collator = DataCollatorWithPadding(tokenizer=tokenizer, return_tensors=\"pt\")\n",
    "\n",
    "# Create a custom configuration with increased dropout\n",
    "config = RobertaConfig.from_pretrained(\n",
    "    base_model,\n",
    "    num_labels=num_labels,\n",
    "    id2label=id2label,\n",
    "    hidden_dropout_prob=0.25,\n",
    ")"
   ]
  },
  {
   "cell_type": "markdown",
   "id": "bc86f01e-4ce8-4342-8daf-46849879bd34",
   "metadata": {},
   "source": [
    "## Load Pre-trained Model\n",
    "Set up config for pretrained model and download it from hugging face"
   ]
  },
  {
   "cell_type": "code",
   "execution_count": 5,
   "id": "a9713978-e656-4a16-8583-8d3ede1a47cb",
   "metadata": {},
   "outputs": [
    {
     "name": "stderr",
     "output_type": "stream",
     "text": [
      "Some weights of RobertaForSequenceClassification were not initialized from the model checkpoint at roberta-base and are newly initialized: ['classifier.dense.bias', 'classifier.dense.weight', 'classifier.out_proj.bias', 'classifier.out_proj.weight']\n",
      "You should probably TRAIN this model on a down-stream task to be able to use it for predictions and inference.\n"
     ]
    }
   ],
   "source": [
    "# Load model with custom configuration\n",
    "model = RobertaForSequenceClassification.from_pretrained(\n",
    "    base_model,\n",
    "    config=config\n",
    ")"
   ]
  },
  {
   "cell_type": "markdown",
   "id": "c435b982-b73b-44eb-ac66-5718c48da69e",
   "metadata": {},
   "source": [
    "## Create a custom model class with additional dropout layers"
   ]
  },
  {
   "cell_type": "code",
   "execution_count": 6,
   "id": "a06788ff-007f-4a5b-9d90-cbae4ea50307",
   "metadata": {},
   "outputs": [],
   "source": [
    "\n",
    "class EnhancedRobertaClassifier(nn.Module):\n",
    "    def __init__(self, roberta_model):\n",
    "        super().__init__()\n",
    "        self.roberta = roberta_model\n",
    "        # Additional dropout before classification layer\n",
    "        self.extra_dropout = nn.Dropout(0.1)\n",
    "\n",
    "    def forward(self, **inputs):\n",
    "        outputs = self.roberta(**inputs)\n",
    "        # Apply extra dropout to pooled output before classification\n",
    "        if hasattr(outputs, 'logits'):\n",
    "            # For sequence classification models\n",
    "            return outputs\n",
    "        # For base models that don't have classification head\n",
    "        pooled_output = outputs.pooler_output\n",
    "        pooled_output = self.extra_dropout(pooled_output)\n",
    "        # Return modified outputs\n",
    "        outputs.pooler_output = pooled_output\n",
    "        return outputs\n"
   ]
  },
  {
   "cell_type": "markdown",
   "id": "f5883014-674d-401a-bf95-a046a4305d34",
   "metadata": {},
   "source": [
    "## Split the original training set"
   ]
  },
  {
   "cell_type": "code",
   "execution_count": 7,
   "id": "36870d1c-9ecc-484b-91f2-88d05c3c4457",
   "metadata": {},
   "outputs": [],
   "source": [
    "split_datasets = tokenized_dataset.train_test_split(test_size=640, seed=42)\n",
    "train_dataset = split_datasets['train']\n",
    "eval_dataset = split_datasets['test']"
   ]
  },
  {
   "cell_type": "markdown",
   "id": "9ffe8d2a-f02e-4f15-937e-211e6d122167",
   "metadata": {},
   "source": [
    "## Metrics function"
   ]
  },
  {
   "cell_type": "code",
   "execution_count": 8,
   "id": "b5622db8-e5cc-4f5f-8182-a11d28c508bd",
   "metadata": {},
   "outputs": [],
   "source": [
    "def compute_metrics(pred):\n",
    "    labels = pred.label_ids\n",
    "    preds = pred.predictions.argmax(-1)\n",
    "    precision, recall, f1, _ = precision_recall_fscore_support(labels, preds, average='weighted')\n",
    "    acc = accuracy_score(labels, preds)\n",
    "    return {\n",
    "        'accuracy': acc,\n",
    "        'f1': f1,\n",
    "        'precision': precision,\n",
    "        'recall': recall\n",
    "    }"
   ]
  },
  {
   "cell_type": "markdown",
   "id": "2391f0bf-1de8-46ab-ac11-ea3e3528d250",
   "metadata": {},
   "source": [
    "## Setup LoRA Config\n",
    "Setup PEFT config and get peft model for finetuning"
   ]
  },
  {
   "cell_type": "code",
   "execution_count": 9,
   "id": "6386f672-5d34-4cea-8189-e3d60ec8ebea",
   "metadata": {},
   "outputs": [
    {
     "name": "stdout",
     "output_type": "stream",
     "text": [
      "Applying PEFT adapters to the model...\n",
      "PEFT Model Configuration:\n",
      "trainable params: 796,420 || all params: 125,445,128 || trainable%: 0.6349\n"
     ]
    }
   ],
   "source": [
    "\n",
    "\n",
    "# PEFT Config\n",
    "peft_config = LoraConfig(\n",
    "    r=12,\n",
    "    lora_alpha=32,\n",
    "    lora_dropout=0.25,\n",
    "    bias='none',\n",
    "    target_modules=[\"roberta.encoder.layer.0.attention.self.query\",\n",
    "    \"roberta.encoder.layer.0.attention.self.key\",\n",
    "    \"roberta.encoder.layer.0.attention.self.value\",\n",
    "    \"roberta.encoder.layer.1.attention.self.query\",\n",
    "    \"roberta.encoder.layer.5.attention.self.query\",\n",
    "    \"roberta.encoder.layer.10.attention.self.query\",\n",
    "    \"roberta.encoder.layer.10.output.dense\",\n",
    "    \"roberta.encoder.layer.11.output.dense\"],\n",
    "    task_type=\"SEQ_CLS\",\n",
    ")\n",
    "\n",
    "# Apply PEFT to the model\n",
    "print(\"Applying PEFT adapters to the model...\")\n",
    "peft_model = get_peft_model(model, peft_config)\n",
    "print(\"PEFT Model Configuration:\")\n",
    "peft_model.print_trainable_parameters()\n",
    "\n"
   ]
  },
  {
   "cell_type": "markdown",
   "id": "ba3d7775-bd83-43ec-82dc-cda0ff61effa",
   "metadata": {},
   "source": [
    "## Enhanced Training Arguments"
   ]
  },
  {
   "cell_type": "code",
   "execution_count": 10,
   "id": "edfbac47-db35-4425-aa11-d6ea92cbd2ce",
   "metadata": {},
   "outputs": [
    {
     "name": "stdout",
     "output_type": "stream",
     "text": [
      "Defining Training Arguments...\n"
     ]
    }
   ],
   "source": [
    "print(\"Defining Training Arguments...\")\n",
    "training_args = TrainingArguments(\n",
    "    output_dir=\"./results_lora_enhanced_dropout\",\n",
    "    learning_rate=3e-5,             # Slightly increased learning rate\n",
    "    per_device_train_batch_size=16,\n",
    "    per_device_eval_batch_size=32,\n",
    "    num_train_epochs=4,\n",
    "    weight_decay=0.1,\n",
    "    eval_strategy=\"epoch\",\n",
    "    save_strategy=\"epoch\",\n",
    "    load_best_model_at_end=True,\n",
    "    push_to_hub=False,\n",
    "    logging_dir='./logs_lora_enhanced_dropout',\n",
    "    logging_steps=100,\n",
    "    report_to=\"none\",\n",
    "    warmup_ratio=0.15,\n",
    "    # bf16=True,\n",
    "    gradient_accumulation_steps=2,\n",
    "    lr_scheduler_type=\"cosine\",\n",
    "    metric_for_best_model=\"accuracy\",\n",
    ")\n",
    "\n"
   ]
  },
  {
   "cell_type": "markdown",
   "id": "18d99f7c-ba48-435a-a157-c882ec202cac",
   "metadata": {},
   "source": [
    "## Initialize Trainer"
   ]
  },
  {
   "cell_type": "code",
   "execution_count": 11,
   "id": "83f85c79-fe23-48c1-a2d8-1893ebd88bff",
   "metadata": {},
   "outputs": [
    {
     "name": "stdout",
     "output_type": "stream",
     "text": [
      "Initializing Trainer...\n"
     ]
    },
    {
     "name": "stderr",
     "output_type": "stream",
     "text": [
      "/tmp/ipykernel_5628/3745639428.py:2: FutureWarning: `tokenizer` is deprecated and will be removed in version 5.0.0 for `Trainer.__init__`. Use `processing_class` instead.\n",
      "  trainer = Trainer(\n",
      "No label_names provided for model class `PeftModelForSequenceClassification`. Since `PeftModel` hides base models input arguments, if label_names is not given, label_names can't be set automatically within `Trainer`. Note that empty label_names list will be used instead.\n"
     ]
    }
   ],
   "source": [
    "\n",
    "print(\"Initializing Trainer...\")\n",
    "trainer = Trainer(\n",
    "    model=peft_model,\n",
    "    args=training_args,\n",
    "    train_dataset=train_dataset,\n",
    "    eval_dataset=eval_dataset,\n",
    "    tokenizer=tokenizer,\n",
    "    data_collator=data_collator,\n",
    "    compute_metrics=compute_metrics,\n",
    ")\n",
    "\n"
   ]
  },
  {
   "cell_type": "markdown",
   "id": "589fa669-35bc-45b8-aeae-0858f865a4a2",
   "metadata": {},
   "source": [
    "## Train the model"
   ]
  },
  {
   "cell_type": "code",
   "execution_count": 12,
   "id": "567a21fa-160c-452f-9e6b-7642faf716cc",
   "metadata": {},
   "outputs": [
    {
     "data": {
      "text/html": [
       "\n",
       "    <div>\n",
       "      \n",
       "      <progress value='14920' max='14920' style='width:300px; height:20px; vertical-align: middle;'></progress>\n",
       "      [14920/14920 1:12:52, Epoch 4/4]\n",
       "    </div>\n",
       "    <table border=\"1\" class=\"dataframe\">\n",
       "  <thead>\n",
       " <tr style=\"text-align: left;\">\n",
       "      <th>Epoch</th>\n",
       "      <th>Training Loss</th>\n",
       "      <th>Validation Loss</th>\n",
       "      <th>Accuracy</th>\n",
       "      <th>F1</th>\n",
       "      <th>Precision</th>\n",
       "      <th>Recall</th>\n",
       "    </tr>\n",
       "  </thead>\n",
       "  <tbody>\n",
       "    <tr>\n",
       "      <td>1</td>\n",
       "      <td>0.315400</td>\n",
       "      <td>0.335628</td>\n",
       "      <td>0.904687</td>\n",
       "      <td>0.904525</td>\n",
       "      <td>0.906093</td>\n",
       "      <td>0.904687</td>\n",
       "    </tr>\n",
       "    <tr>\n",
       "      <td>2</td>\n",
       "      <td>0.306600</td>\n",
       "      <td>0.293587</td>\n",
       "      <td>0.917188</td>\n",
       "      <td>0.916841</td>\n",
       "      <td>0.917809</td>\n",
       "      <td>0.917188</td>\n",
       "    </tr>\n",
       "    <tr>\n",
       "      <td>3</td>\n",
       "      <td>0.261900</td>\n",
       "      <td>0.283720</td>\n",
       "      <td>0.920312</td>\n",
       "      <td>0.920063</td>\n",
       "      <td>0.920295</td>\n",
       "      <td>0.920312</td>\n",
       "    </tr>\n",
       "    <tr>\n",
       "      <td>4</td>\n",
       "      <td>0.285000</td>\n",
       "      <td>0.280740</td>\n",
       "      <td>0.920312</td>\n",
       "      <td>0.920164</td>\n",
       "      <td>0.920343</td>\n",
       "      <td>0.920312</td>\n",
       "    </tr>\n",
       "  </tbody>\n",
       "</table><p>"
      ],
      "text/plain": [
       "<IPython.core.display.HTML object>"
      ]
     },
     "metadata": {},
     "output_type": "display_data"
    }
   ],
   "source": [
    "result = trainer.train()"
   ]
  },
  {
   "cell_type": "markdown",
   "id": "d726f1a1-cd79-4570-ae47-f37d68cb78cb",
   "metadata": {},
   "source": [
    "## Training Metrics Visualization for PEFT Fine-Tuned Roberta Model"
   ]
  },
  {
   "cell_type": "markdown",
   "id": "98742967-b301-4a04-a2c2-0faa144338cf",
   "metadata": {},
   "source": [
    "### Training log data as a dictionary, converting the data to a dataframe and setting the style"
   ]
  },
  {
   "cell_type": "code",
   "execution_count": 19,
   "id": "361df435-58b4-4fbb-831d-ebdc6ba4e613",
   "metadata": {},
   "outputs": [
    {
     "name": "stdout",
     "output_type": "stream",
     "text": [
      "Defaulting to user installation because normal site-packages is not writeable\n",
      "Requirement already satisfied: seaborn in /home/hs5595/.local/lib/python3.9/site-packages (0.13.2)\n",
      "Requirement already satisfied: numpy!=1.24.0,>=1.20 in /home/hs5595/.local/lib/python3.9/site-packages (from seaborn) (2.0.2)\n",
      "Requirement already satisfied: pandas>=1.2 in /home/hs5595/.local/lib/python3.9/site-packages (from seaborn) (2.2.3)\n",
      "Requirement already satisfied: matplotlib!=3.6.1,>=3.4 in /home/hs5595/.local/lib/python3.9/site-packages (from seaborn) (3.9.4)\n",
      "Requirement already satisfied: contourpy>=1.0.1 in /home/hs5595/.local/lib/python3.9/site-packages (from matplotlib!=3.6.1,>=3.4->seaborn) (1.3.0)\n",
      "Requirement already satisfied: cycler>=0.10 in /home/hs5595/.local/lib/python3.9/site-packages (from matplotlib!=3.6.1,>=3.4->seaborn) (0.12.1)\n",
      "Requirement already satisfied: fonttools>=4.22.0 in /home/hs5595/.local/lib/python3.9/site-packages (from matplotlib!=3.6.1,>=3.4->seaborn) (4.56.0)\n",
      "Requirement already satisfied: kiwisolver>=1.3.1 in /home/hs5595/.local/lib/python3.9/site-packages (from matplotlib!=3.6.1,>=3.4->seaborn) (1.4.7)\n",
      "Requirement already satisfied: packaging>=20.0 in /share/apps/pyenv/py3.9/lib/python3.9/site-packages (from matplotlib!=3.6.1,>=3.4->seaborn) (23.2)\n",
      "Requirement already satisfied: pillow>=8 in /home/hs5595/.local/lib/python3.9/site-packages (from matplotlib!=3.6.1,>=3.4->seaborn) (11.0.0)\n",
      "Requirement already satisfied: pyparsing>=2.3.1 in /home/hs5595/.local/lib/python3.9/site-packages (from matplotlib!=3.6.1,>=3.4->seaborn) (3.2.1)\n",
      "Requirement already satisfied: python-dateutil>=2.7 in /share/apps/pyenv/py3.9/lib/python3.9/site-packages (from matplotlib!=3.6.1,>=3.4->seaborn) (2.8.2)\n",
      "Requirement already satisfied: importlib-resources>=3.2.0 in /home/hs5595/.local/lib/python3.9/site-packages (from matplotlib!=3.6.1,>=3.4->seaborn) (6.5.2)\n",
      "Requirement already satisfied: pytz>=2020.1 in /home/hs5595/.local/lib/python3.9/site-packages (from pandas>=1.2->seaborn) (2025.1)\n",
      "Requirement already satisfied: tzdata>=2022.7 in /home/hs5595/.local/lib/python3.9/site-packages (from pandas>=1.2->seaborn) (2025.1)\n",
      "Requirement already satisfied: zipp>=3.1.0 in /share/apps/pyenv/py3.9/lib/python3.9/site-packages (from importlib-resources>=3.2.0->matplotlib!=3.6.1,>=3.4->seaborn) (3.17.0)\n",
      "Requirement already satisfied: six>=1.5 in /share/apps/pyenv/py3.9/lib/python3.9/site-packages (from python-dateutil>=2.7->matplotlib!=3.6.1,>=3.4->seaborn) (1.16.0)\n"
     ]
    }
   ],
   "source": [
    "!pip install seaborn\n",
    "import matplotlib.pyplot as plt\n",
    "import pandas as pd\n",
    "import seaborn\n",
    "\n",
    "# Updated training log data\n",
    "updated_data = {\n",
    "    \"Epoch\": [1, 2, 3, 4],\n",
    "    \"Training Loss\": [0.315400, 0.306600, 0.261900, 0.285000],\n",
    "    \"Validation Loss\": [0.335628, 0.293587, 0.283720, 0.280740],\n",
    "    \"Accuracy\": [0.904687, 0.917188, 0.920312, 0.920312],\n",
    "    \"F1\": [0.904525, 0.916841, 0.920063, 0.920164],\n",
    "    \"Precision\": [0.906093, 0.917809, 0.920295, 0.920343],\n",
    "    \"Recall\": [0.904687, 0.917188, 0.920312, 0.920312]\n",
    "}\n",
    "\n",
    "# Convert to DataFrame\n",
    "df_updated = pd.DataFrame(updated_data)\n",
    "\n",
    "# Set style\n",
    "plt.style.use(\"seaborn-v0_8-whitegrid\")\n",
    "\n",
    "\n"
   ]
  },
  {
   "cell_type": "markdown",
   "id": "7e0a8c14-8b36-4f2d-9035-84782f4cd7c1",
   "metadata": {},
   "source": [
    "### 1. Training vs Validation Loss"
   ]
  },
  {
   "cell_type": "code",
   "execution_count": 20,
   "id": "7a0782d4-fa1d-4367-8ac5-6abe5631430e",
   "metadata": {},
   "outputs": [
    {
     "name": "stderr",
     "output_type": "stream",
     "text": [
      "/tmp/ipykernel_5628/3841874465.py:8: UserWarning: Glyph 128201 (\\N{CHART WITH DOWNWARDS TREND}) missing from font(s) DejaVu Sans.\n",
      "  plt.tight_layout()\n",
      "/share/apps/pyenv/py3.9/lib/python3.9/site-packages/IPython/core/pylabtools.py:152: UserWarning: Glyph 128201 (\\N{CHART WITH DOWNWARDS TREND}) missing from font(s) DejaVu Sans.\n",
      "  fig.canvas.print_figure(bytes_io, **kw)\n"
     ]
    },
    {
     "data": {
      "image/png": "[encoded data removed]",
      "text/plain": [
       "<Figure size 800x500 with 1 Axes>"
      ]
     },
     "metadata": {},
     "output_type": "display_data"
    }
   ],
   "source": [
    "plt.figure(figsize=(8, 5))\n",
    "plt.plot(df[\"Epoch\"], df[\"Training Loss\"], marker='o', label=\"Training Loss\")\n",
    "plt.plot(df[\"Epoch\"], df[\"Validation Loss\"], marker='o', label=\"Validation Loss\")\n",
    "plt.title(\"📉 Training vs Validation Loss per Epoch\")\n",
    "plt.xlabel(\"Epoch\")\n",
    "plt.ylabel(\"Loss\")\n",
    "plt.legend()\n",
    "plt.tight_layout()\n",
    "plt.show()\n",
    "\n"
   ]
  },
  {
   "cell_type": "markdown",
   "id": "470aefcb-b038-4c66-b6f3-cf5830375a17",
   "metadata": {},
   "source": [
    "### 2. Accuracy per Epoch"
   ]
  },
  {
   "cell_type": "code",
   "execution_count": 21,
   "id": "c52672fb-1986-4a3b-a8be-150e3632d9ab",
   "metadata": {},
   "outputs": [
    {
     "name": "stderr",
     "output_type": "stream",
     "text": [
      "/tmp/ipykernel_5628/3716654759.py:8: UserWarning: Glyph 9989 (\\N{WHITE HEAVY CHECK MARK}) missing from font(s) DejaVu Sans.\n",
      "  plt.tight_layout()\n",
      "/share/apps/pyenv/py3.9/lib/python3.9/site-packages/IPython/core/pylabtools.py:152: UserWarning: Glyph 9989 (\\N{WHITE HEAVY CHECK MARK}) missing from font(s) DejaVu Sans.\n",
      "  fig.canvas.print_figure(bytes_io, **kw)\n"
     ]
    },
    {
     "data": {
      "image/png": "[encoded data removed]",
      "text/plain": [
       "<Figure size 800x500 with 1 Axes>"
      ]
     },
     "metadata": {},
     "output_type": "display_data"
    }
   ],
   "source": [
    "plt.figure(figsize=(8, 5))\n",
    "plt.plot(df[\"Epoch\"], df[\"Accuracy\"], marker='o', color='green', label=\"Accuracy\")\n",
    "plt.title(\"✅ Accuracy per Epoch\")\n",
    "plt.xlabel(\"Epoch\")\n",
    "plt.ylabel(\"Accuracy\")\n",
    "plt.ylim(0.85, 0.95)\n",
    "plt.legend()\n",
    "plt.tight_layout()\n",
    "plt.show()\n",
    "\n"
   ]
  },
  {
   "cell_type": "markdown",
   "id": "649abe93-bc6d-4ba6-9ecc-23889b25e0ff",
   "metadata": {},
   "source": [
    "### 3. F1 Score per Epoch"
   ]
  },
  {
   "cell_type": "code",
   "execution_count": 22,
   "id": "29a9a9c3-fba8-480e-9b99-b96184d56242",
   "metadata": {},
   "outputs": [
    {
     "name": "stderr",
     "output_type": "stream",
     "text": [
      "/tmp/ipykernel_5628/1214539574.py:8: UserWarning: Glyph 127919 (\\N{DIRECT HIT}) missing from font(s) DejaVu Sans.\n",
      "  plt.tight_layout()\n",
      "/share/apps/pyenv/py3.9/lib/python3.9/site-packages/IPython/core/pylabtools.py:152: UserWarning: Glyph 127919 (\\N{DIRECT HIT}) missing from font(s) DejaVu Sans.\n",
      "  fig.canvas.print_figure(bytes_io, **kw)\n"
     ]
    },
    {
     "data": {
      "image/png": "[encoded data removed]",
      "text/plain": [
       "<Figure size 800x500 with 1 Axes>"
      ]
     },
     "metadata": {},
     "output_type": "display_data"
    }
   ],
   "source": [
    "plt.figure(figsize=(8, 5))\n",
    "plt.plot(df[\"Epoch\"], df[\"F1\"], marker='o', color='purple', label=\"F1 Score\")\n",
    "plt.title(\"🎯 F1 Score per Epoch\")\n",
    "plt.xlabel(\"Epoch\")\n",
    "plt.ylabel(\"F1 Score\")\n",
    "plt.ylim(0.85, 0.95)\n",
    "plt.legend()\n",
    "plt.tight_layout()\n",
    "plt.show()\n",
    "\n"
   ]
  },
  {
   "cell_type": "markdown",
   "id": "00e75f2d-7a43-45da-b64f-572ad6180e74",
   "metadata": {},
   "source": [
    "### 4. Precision and Recall per Epoch"
   ]
  },
  {
   "cell_type": "code",
   "execution_count": 23,
   "id": "2ed752f8-d592-4c9c-aa4d-2faf0af53340",
   "metadata": {},
   "outputs": [
    {
     "name": "stderr",
     "output_type": "stream",
     "text": [
      "/tmp/ipykernel_5628/3747290742.py:9: UserWarning: Glyph 128204 (\\N{PUSHPIN}) missing from font(s) DejaVu Sans.\n",
      "  plt.tight_layout()\n",
      "/share/apps/pyenv/py3.9/lib/python3.9/site-packages/IPython/core/pylabtools.py:152: UserWarning: Glyph 128204 (\\N{PUSHPIN}) missing from font(s) DejaVu Sans.\n",
      "  fig.canvas.print_figure(bytes_io, **kw)\n"
     ]
    },
    {
     "data": {
      "image/png": "[encoded data removed]",
      "text/plain": [
       "<Figure size 800x500 with 1 Axes>"
      ]
     },
     "metadata": {},
     "output_type": "display_data"
    }
   ],
   "source": [
    "plt.figure(figsize=(8, 5))\n",
    "plt.plot(df[\"Epoch\"], df[\"Precision\"], marker='o', label=\"Precision\")\n",
    "plt.plot(df[\"Epoch\"], df[\"Recall\"], marker='o', label=\"Recall\")\n",
    "plt.title(\"📌 Precision & Recall per Epoch\")\n",
    "plt.xlabel(\"Epoch\")\n",
    "plt.ylabel(\"Score\")\n",
    "plt.ylim(0.85, 0.95)\n",
    "plt.legend()\n",
    "plt.tight_layout()\n",
    "plt.show()\n"
   ]
  },
  {
   "cell_type": "markdown",
   "id": "34967722-13d3-4356-bddf-7660f9cf364f",
   "metadata": {},
   "source": [
    "## Evaluate Finetuned Model\n"
   ]
  },
  {
   "cell_type": "markdown",
   "id": "1c8a4fa3-7728-44e5-979e-174dc68654d5",
   "metadata": {},
   "source": [
    "### Performing Inference on Custom Input\n"
   ]
  },
  {
   "cell_type": "code",
   "execution_count": 24,
   "id": "7d36a711-a607-4180-9b84-9aadfcb2ca01",
   "metadata": {},
   "outputs": [],
   "source": [
    "def classify(model, tokenizer, text):\n",
    "    device = torch.device(\"cuda\" if torch.cuda.is_available() else \"cpu\")\n",
    "    inputs = tokenizer(text, truncation=True, padding=True, return_tensors=\"pt\").to(device)\n",
    "    output = model(**inputs)\n",
    "\n",
    "    prediction = output.logits.argmax(dim=-1).item()\n",
    "\n",
    "    print(f'\\n Class: {prediction}, Label: {id2label[prediction]}, Text: {text}')\n",
    "    return id2label[prediction]"
   ]
  },
  {
   "cell_type": "code",
   "execution_count": 25,
   "id": "7423ab5c-aec2-4ddc-9c00-4222b5016a23",
   "metadata": {},
   "outputs": [
    {
     "name": "stdout",
     "output_type": "stream",
     "text": [
      "\n",
      " Class: 1, Label: Sports, Text: Kederis proclaims innocence Olympic champion Kostas Kederis today left hospital ahead of his date with IOC inquisitors claiming his ...\n",
      "\n",
      " Class: 2, Label: Business, Text: Wall St. Bears Claw Back Into the Black (Reuters) Reuters - Short-sellers, Wall Street's dwindlinand of ultra-cynics, are seeing green again.\n"
     ]
    },
    {
     "data": {
      "text/plain": [
       "'Business'"
      ]
     },
     "execution_count": 25,
     "metadata": {},
     "output_type": "execute_result"
    }
   ],
   "source": [
    "classify( peft_model, tokenizer, \"Kederis proclaims innocence Olympic champion Kostas Kederis today left hospital ahead of his date with IOC inquisitors claiming his ...\")\n",
    "classify( peft_model, tokenizer, \"Wall St. Bears Claw Back Into the Black (Reuters) Reuters - Short-sellers, Wall Street's dwindling\\band of ultra-cynics, are seeing green again.\")"
   ]
  },
  {
   "cell_type": "markdown",
   "id": "f600bfc5-9a31-49fc-abc4-7b0b433de469",
   "metadata": {},
   "source": [
    "### Run Inference on eval_dataset"
   ]
  },
  {
   "cell_type": "code",
   "execution_count": 26,
   "id": "6997dde3-9e2d-45e9-989e-dd744df88b2b",
   "metadata": {},
   "outputs": [],
   "source": [
    "from torch.utils.data import DataLoader\n",
    "import evaluate\n",
    "from tqdm import tqdm\n",
    "\n",
    "def evaluate_model(inference_model, dataset, labelled=True, batch_size=8, data_collator=None):\n",
    "    \"\"\"\n",
    "    Evaluate a PEFT model on a dataset.\n",
    "\n",
    "    Args:\n",
    "        inference_model: The model to evaluate.\n",
    "        dataset: The dataset (Hugging Face Dataset) to run inference on.\n",
    "        labelled (bool): If True, the dataset includes labels and metrics will be computed.\n",
    "                         If False, only predictions will be returned.\n",
    "        batch_size (int): Batch size for inference.\n",
    "        data_collator: Function to collate batches. If None, the default collate_fn is used.\n",
    "\n",
    "    Returns:\n",
    "        If labelled is True, returns a tuple (metrics, predictions)\n",
    "        If labelled is False, returns the predictions.\n",
    "    \"\"\"\n",
    "    # Create the DataLoader\n",
    "    eval_dataloader = DataLoader(dataset, batch_size=batch_size, collate_fn=data_collator)\n",
    "    device = torch.device(\"cuda\" if torch.cuda.is_available() else \"cpu\")\n",
    "\n",
    "    inference_model.to(device)\n",
    "    inference_model.eval()\n",
    "\n",
    "    all_predictions = []\n",
    "    if labelled:\n",
    "        metric = evaluate.load('accuracy')\n",
    "\n",
    "    # Loop over the DataLoader\n",
    "    for batch in tqdm(eval_dataloader):\n",
    "        # Move each tensor in the batch to the device\n",
    "        batch = {k: v.to(device) for k, v in batch.items()}\n",
    "        with torch.no_grad():\n",
    "            outputs = inference_model(**batch)\n",
    "        predictions = outputs.logits.argmax(dim=-1)\n",
    "        all_predictions.append(predictions.cpu())\n",
    "\n",
    "        if labelled:\n",
    "            # Expecting that labels are provided under the \"labels\" key.\n",
    "            references = batch[\"labels\"]\n",
    "            metric.add_batch(\n",
    "                predictions=predictions.cpu().numpy(),\n",
    "                references=references.cpu().numpy()\n",
    "            )\n",
    "\n",
    "    # Concatenate predictions from all batches\n",
    "    all_predictions = torch.cat(all_predictions, dim=0)\n",
    "\n",
    "    if labelled:\n",
    "        eval_metric = metric.compute()\n",
    "        print(\"Evaluation Metric:\", eval_metric)\n",
    "        return eval_metric, all_predictions\n",
    "    else:\n",
    "        return all_predictions"
   ]
  },
  {
   "cell_type": "markdown",
   "id": "a35dc3e1-6065-46b7-9756-3ef4ed4ff41f",
   "metadata": {},
   "source": [
    "## Check evaluation accuracy"
   ]
  },
  {
   "cell_type": "code",
   "execution_count": 27,
   "id": "fe75b402-5911-4827-bcca-18d8744e1fb3",
   "metadata": {},
   "outputs": [
    {
     "name": "stderr",
     "output_type": "stream",
     "text": [
      "100%|██████████| 80/80 [00:02<00:00, 27.03it/s]\n"
     ]
    },
    {
     "name": "stdout",
     "output_type": "stream",
     "text": [
      "Evaluation Metric: {'accuracy': 0.9203125}\n"
     ]
    }
   ],
   "source": [
    "_, _ = evaluate_model(peft_model, eval_dataset, True, 8, data_collator)"
   ]
  },
  {
   "cell_type": "markdown",
   "id": "84cea0d1-3b1a-47fe-acb9-c72bda86a9a9",
   "metadata": {},
   "source": [
    "### Run Inference on unlabelled dataset"
   ]
  },
  {
   "cell_type": "code",
   "execution_count": 28,
   "id": "21e7d11c-dfc7-46e5-9033-664291be6a57",
   "metadata": {},
   "outputs": [
    {
     "name": "stderr",
     "output_type": "stream",
     "text": [
      "Map: 100%|██████████| 8000/8000 [00:06<00:00, 1325.44 examples/s]\n"
     ]
    },
    {
     "data": {
      "text/plain": [
       "Dataset({\n",
       "    features: ['text'],\n",
       "    num_rows: 8000\n",
       "})"
      ]
     },
     "execution_count": 28,
     "metadata": {},
     "output_type": "execute_result"
    }
   ],
   "source": [
    "#Load your unlabelled data\n",
    "unlabelled_dataset = pd.read_pickle(\"test_unlabelled.pkl\")\n",
    "test_dataset = unlabelled_dataset.map(preprocess, batched=True, remove_columns=[\"text\"])\n",
    "unlabelled_dataset"
   ]
  },
  {
   "cell_type": "code",
   "execution_count": 29,
   "id": "b0f395f2-6a51-41e2-87c1-f1a5bc6d9913",
   "metadata": {},
   "outputs": [
    {
     "name": "stderr",
     "output_type": "stream",
     "text": [
      "100%|██████████| 1000/1000 [00:28<00:00, 35.02it/s]"
     ]
    },
    {
     "name": "stdout",
     "output_type": "stream",
     "text": [
      "Inference complete. Predictions saved to Submission_final_Project_2.csv\n"
     ]
    },
    {
     "name": "stderr",
     "output_type": "stream",
     "text": [
      "\n"
     ]
    }
   ],
   "source": [
    "# Define the output directory\n",
    "output_dir = \"./results_lora_enhanced_dropout\"\n",
    "\n",
    "# Run inference and save predictions\n",
    "preds = evaluate_model(peft_model, test_dataset, False, 8, data_collator)\n",
    "df_output = pd.DataFrame({\n",
    "    'ID': range(len(preds)),\n",
    "    'Label': preds.numpy()  # or preds.tolist()\n",
    "})\n",
    "\n",
    "# Save predictions to the CSV file\n",
    "df_output.to_csv(os.path.join(\"results\", \"Submission_final_Project_2.csv\"), index=False)\n",
    "print(\"Inference complete. Predictions saved to Submission_final_Project_2.csv\")\n"
   ]
  },
  {
   "cell_type": "code",
   "execution_count": null,
   "id": "072df381-9aed-43bf-aa3b-e176e487a82c",
   "metadata": {},
   "outputs": [],
   "source": []
  }
 ],
 "metadata": {
  "kernelspec": {
   "display_name": "Python 3 (ipykernel)",
   "language": "python",
   "name": "python3"
  },
  "language_info": {
   "codemirror_mode": {
    "name": "ipython",
    "version": 3
   },
   "file_extension": ".py",
   "mimetype": "text/x-python",
   "name": "python",
   "nbconvert_exporter": "python",
   "pygments_lexer": "ipython3",
   "version": "3.9.18"
  }
 },
 "nbformat": 4,
 "nbformat_minor": 5
}
